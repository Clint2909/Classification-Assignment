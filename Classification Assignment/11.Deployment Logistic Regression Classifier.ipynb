{
 "cells": [
  {
   "cell_type": "code",
   "execution_count": 1,
   "id": "3307e644-1ed5-4132-90c1-5cbd77ecf91c",
   "metadata": {},
   "outputs": [
    {
     "name": "stderr",
     "output_type": "stream",
     "text": [
      "C:\\Anaconda\\Lib\\site-packages\\sklearn\\base.py:493: UserWarning: X does not have valid feature names, but StandardScaler was fitted with feature names\n",
      "  warnings.warn(\n"
     ]
    },
    {
     "data": {
      "text/plain": [
       "array([[-2.91575992e+00, -4.44881028e-03,  1.59943471e+00,\n",
       "        -3.80814665e-01, -6.83783887e-02, -9.78413510e-03,\n",
       "        -1.37724892e-02, -5.74465760e-02, -9.66159220e-03,\n",
       "        -6.69369132e-03, -1.09272000e-03, -7.57524714e-05,\n",
       "        -6.66350113e-03, -5.04694939e-01,  1.93649167e+00,\n",
       "        -4.81125224e-01, -1.33630621e-01,  3.65407618e-01,\n",
       "        -2.06155281e+00, -3.42997170e-01, -2.41568702e-01,\n",
       "        -7.59654592e-01, -7.19103794e-01, -3.05205971e-01,\n",
       "         5.12501930e-01,  2.04494943e+00, -4.20703162e-01]])"
      ]
     },
     "execution_count": 1,
     "metadata": {},
     "output_type": "execute_result"
    }
   ],
   "source": [
    "import pickle\n",
    "\n",
    "loaded_sc=pickle.load(open(\"sc.pkl\",'rb'))\n",
    "R_input=([[2,76.4,3,0,143,57,3,137,4.6,12.5,38.86,8408,4.70,0,1,0,0,1,0,0,0,0,0,0,1,1,0]])\n",
    "\n",
    "preinput=loaded_sc.transform(R_input)\n",
    "preinput"
   ]
  },
  {
   "cell_type": "code",
   "execution_count": 2,
   "id": "c6a3b11e-ff7d-4763-aeec-48efcd7dc47d",
   "metadata": {},
   "outputs": [
    {
     "name": "stdout",
     "output_type": "stream",
     "text": [
      "Predicted_value=[1]\n"
     ]
    }
   ],
   "source": [
    "loaded_model=pickle.load(open(\"finalized_model_LRC.sav\",'rb'))\n",
    "result=loaded_model.predict(preinput)\n",
    "print(\"Predicted_value={}\".format(result))"
   ]
  }
 ],
 "metadata": {
  "kernelspec": {
   "display_name": "Python 3 (ipykernel)",
   "language": "python",
   "name": "python3"
  },
  "language_info": {
   "codemirror_mode": {
    "name": "ipython",
    "version": 3
   },
   "file_extension": ".py",
   "mimetype": "text/x-python",
   "name": "python",
   "nbconvert_exporter": "python",
   "pygments_lexer": "ipython3",
   "version": "3.12.4"
  }
 },
 "nbformat": 4,
 "nbformat_minor": 5
}
